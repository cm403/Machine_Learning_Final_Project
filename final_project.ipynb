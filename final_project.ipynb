{
 "cells": [
  {
   "cell_type": "markdown",
   "metadata": {},
   "source": [
    "# Machine Learning - EL 9123\n",
    "## Corrado Mancini\n",
    "### <h1><center>Higgs Boson Kaggle Competition</center></h1>\n",
    "![title](ATLASEXP_image.png)"
   ]
  },
  {
   "cell_type": "markdown",
   "metadata": {},
   "source": [
    "### Kaggle Competition https://www.kaggle.com/c/higgs-boson\n",
    "\n",
    "The ATLAS experiment at CERN observes signals of the Higgs boson's existence through it's decay into two tau particles. This signal is hard to pick up due to background noise.\n",
    "\n",
    "#### Main Goal: Predict signals from background noise.\n",
    "\n",
    "##### Other Goals:\n",
    "Analyze features and clean up data  \n",
    "Investigate and determine AUC of ROC  \n",
    "Compare Logistic Regression results for different methods of processing data  \n",
    "Investigate Gradient Boosted Tree models through Microsoft's LightGBM  "
   ]
  },
  {
   "cell_type": "code",
   "execution_count": 257,
   "metadata": {},
   "outputs": [],
   "source": [
    "import pandas as pd\n",
    "import numpy as np\n",
    "\n",
    "import matplotlib\n",
    "import matplotlib.pyplot as plt\n",
    "%matplotlib inline\n",
    "\n",
    "from sklearn.model_selection import KFold, StratifiedKFold\n",
    "from sklearn.metrics import auc, roc_auc_score, roc_curve, precision_recall_fscore_support\n",
    "from sklearn.ensemble import GradientBoostingClassifier as GBC\n",
    "from sklearn import linear_model, preprocessing\n",
    "from scipy import interp\n",
    "\n",
    "import lightgbm as lgb"
   ]
  },
  {
   "cell_type": "markdown",
   "metadata": {},
   "source": [
    "## Load Data"
   ]
  },
  {
   "cell_type": "markdown",
   "metadata": {},
   "source": [
    "### Load Training Data\n",
    "\n",
    "250000 Events  \n",
    "30 Features  \n",
    "2 Classes  \n",
    "Signal events are labeled as 's'  \n",
    "Background events are labeled as 'b'\n"
   ]
  },
  {
   "cell_type": "code",
   "execution_count": 258,
   "metadata": {
    "scrolled": false
   },
   "outputs": [
    {
     "data": {
      "text/html": [
       "<div>\n",
       "<style>\n",
       "    .dataframe thead tr:only-child th {\n",
       "        text-align: right;\n",
       "    }\n",
       "\n",
       "    .dataframe thead th {\n",
       "        text-align: left;\n",
       "    }\n",
       "\n",
       "    .dataframe tbody tr th {\n",
       "        vertical-align: top;\n",
       "    }\n",
       "</style>\n",
       "<table border=\"1\" class=\"dataframe\">\n",
       "  <thead>\n",
       "    <tr style=\"text-align: right;\">\n",
       "      <th></th>\n",
       "      <th>EventId</th>\n",
       "      <th>DER_mass_MMC</th>\n",
       "      <th>DER_mass_transverse_met_lep</th>\n",
       "      <th>DER_mass_vis</th>\n",
       "      <th>DER_pt_h</th>\n",
       "      <th>DER_deltaeta_jet_jet</th>\n",
       "      <th>DER_mass_jet_jet</th>\n",
       "      <th>DER_prodeta_jet_jet</th>\n",
       "      <th>DER_deltar_tau_lep</th>\n",
       "      <th>DER_pt_tot</th>\n",
       "      <th>...</th>\n",
       "      <th>PRI_jet_num</th>\n",
       "      <th>PRI_jet_leading_pt</th>\n",
       "      <th>PRI_jet_leading_eta</th>\n",
       "      <th>PRI_jet_leading_phi</th>\n",
       "      <th>PRI_jet_subleading_pt</th>\n",
       "      <th>PRI_jet_subleading_eta</th>\n",
       "      <th>PRI_jet_subleading_phi</th>\n",
       "      <th>PRI_jet_all_pt</th>\n",
       "      <th>Weight</th>\n",
       "      <th>Label</th>\n",
       "    </tr>\n",
       "  </thead>\n",
       "  <tbody>\n",
       "    <tr>\n",
       "      <th>0</th>\n",
       "      <td>100000</td>\n",
       "      <td>138.470</td>\n",
       "      <td>51.655</td>\n",
       "      <td>97.827</td>\n",
       "      <td>27.980</td>\n",
       "      <td>0.910</td>\n",
       "      <td>124.711</td>\n",
       "      <td>2.666</td>\n",
       "      <td>3.064</td>\n",
       "      <td>41.928</td>\n",
       "      <td>...</td>\n",
       "      <td>2</td>\n",
       "      <td>67.435</td>\n",
       "      <td>2.150</td>\n",
       "      <td>0.444</td>\n",
       "      <td>46.062</td>\n",
       "      <td>1.240</td>\n",
       "      <td>-2.475</td>\n",
       "      <td>113.497</td>\n",
       "      <td>0.002653</td>\n",
       "      <td>s</td>\n",
       "    </tr>\n",
       "    <tr>\n",
       "      <th>1</th>\n",
       "      <td>100001</td>\n",
       "      <td>160.937</td>\n",
       "      <td>68.768</td>\n",
       "      <td>103.235</td>\n",
       "      <td>48.146</td>\n",
       "      <td>-999.000</td>\n",
       "      <td>-999.000</td>\n",
       "      <td>-999.000</td>\n",
       "      <td>3.473</td>\n",
       "      <td>2.078</td>\n",
       "      <td>...</td>\n",
       "      <td>1</td>\n",
       "      <td>46.226</td>\n",
       "      <td>0.725</td>\n",
       "      <td>1.158</td>\n",
       "      <td>-999.000</td>\n",
       "      <td>-999.000</td>\n",
       "      <td>-999.000</td>\n",
       "      <td>46.226</td>\n",
       "      <td>2.233584</td>\n",
       "      <td>b</td>\n",
       "    </tr>\n",
       "    <tr>\n",
       "      <th>2</th>\n",
       "      <td>100002</td>\n",
       "      <td>-999.000</td>\n",
       "      <td>162.172</td>\n",
       "      <td>125.953</td>\n",
       "      <td>35.635</td>\n",
       "      <td>-999.000</td>\n",
       "      <td>-999.000</td>\n",
       "      <td>-999.000</td>\n",
       "      <td>3.148</td>\n",
       "      <td>9.336</td>\n",
       "      <td>...</td>\n",
       "      <td>1</td>\n",
       "      <td>44.251</td>\n",
       "      <td>2.053</td>\n",
       "      <td>-2.028</td>\n",
       "      <td>-999.000</td>\n",
       "      <td>-999.000</td>\n",
       "      <td>-999.000</td>\n",
       "      <td>44.251</td>\n",
       "      <td>2.347389</td>\n",
       "      <td>b</td>\n",
       "    </tr>\n",
       "    <tr>\n",
       "      <th>3</th>\n",
       "      <td>100003</td>\n",
       "      <td>143.905</td>\n",
       "      <td>81.417</td>\n",
       "      <td>80.943</td>\n",
       "      <td>0.414</td>\n",
       "      <td>-999.000</td>\n",
       "      <td>-999.000</td>\n",
       "      <td>-999.000</td>\n",
       "      <td>3.310</td>\n",
       "      <td>0.414</td>\n",
       "      <td>...</td>\n",
       "      <td>0</td>\n",
       "      <td>-999.000</td>\n",
       "      <td>-999.000</td>\n",
       "      <td>-999.000</td>\n",
       "      <td>-999.000</td>\n",
       "      <td>-999.000</td>\n",
       "      <td>-999.000</td>\n",
       "      <td>-0.000</td>\n",
       "      <td>5.446378</td>\n",
       "      <td>b</td>\n",
       "    </tr>\n",
       "    <tr>\n",
       "      <th>4</th>\n",
       "      <td>100004</td>\n",
       "      <td>175.864</td>\n",
       "      <td>16.915</td>\n",
       "      <td>134.805</td>\n",
       "      <td>16.405</td>\n",
       "      <td>-999.000</td>\n",
       "      <td>-999.000</td>\n",
       "      <td>-999.000</td>\n",
       "      <td>3.891</td>\n",
       "      <td>16.405</td>\n",
       "      <td>...</td>\n",
       "      <td>0</td>\n",
       "      <td>-999.000</td>\n",
       "      <td>-999.000</td>\n",
       "      <td>-999.000</td>\n",
       "      <td>-999.000</td>\n",
       "      <td>-999.000</td>\n",
       "      <td>-999.000</td>\n",
       "      <td>0.000</td>\n",
       "      <td>6.245333</td>\n",
       "      <td>b</td>\n",
       "    </tr>\n",
       "    <tr>\n",
       "      <th>5</th>\n",
       "      <td>100005</td>\n",
       "      <td>89.744</td>\n",
       "      <td>13.550</td>\n",
       "      <td>59.149</td>\n",
       "      <td>116.344</td>\n",
       "      <td>2.636</td>\n",
       "      <td>284.584</td>\n",
       "      <td>-0.540</td>\n",
       "      <td>1.362</td>\n",
       "      <td>61.619</td>\n",
       "      <td>...</td>\n",
       "      <td>3</td>\n",
       "      <td>90.547</td>\n",
       "      <td>-2.412</td>\n",
       "      <td>-0.653</td>\n",
       "      <td>56.165</td>\n",
       "      <td>0.224</td>\n",
       "      <td>3.106</td>\n",
       "      <td>193.660</td>\n",
       "      <td>0.083414</td>\n",
       "      <td>b</td>\n",
       "    </tr>\n",
       "  </tbody>\n",
       "</table>\n",
       "<p>6 rows × 33 columns</p>\n",
       "</div>"
      ],
      "text/plain": [
       "   EventId  DER_mass_MMC  DER_mass_transverse_met_lep  DER_mass_vis  DER_pt_h  \\\n",
       "0   100000       138.470                       51.655        97.827    27.980   \n",
       "1   100001       160.937                       68.768       103.235    48.146   \n",
       "2   100002      -999.000                      162.172       125.953    35.635   \n",
       "3   100003       143.905                       81.417        80.943     0.414   \n",
       "4   100004       175.864                       16.915       134.805    16.405   \n",
       "5   100005        89.744                       13.550        59.149   116.344   \n",
       "\n",
       "   DER_deltaeta_jet_jet  DER_mass_jet_jet  DER_prodeta_jet_jet  \\\n",
       "0                 0.910           124.711                2.666   \n",
       "1              -999.000          -999.000             -999.000   \n",
       "2              -999.000          -999.000             -999.000   \n",
       "3              -999.000          -999.000             -999.000   \n",
       "4              -999.000          -999.000             -999.000   \n",
       "5                 2.636           284.584               -0.540   \n",
       "\n",
       "   DER_deltar_tau_lep  DER_pt_tot  ...    PRI_jet_num  PRI_jet_leading_pt  \\\n",
       "0               3.064      41.928  ...              2              67.435   \n",
       "1               3.473       2.078  ...              1              46.226   \n",
       "2               3.148       9.336  ...              1              44.251   \n",
       "3               3.310       0.414  ...              0            -999.000   \n",
       "4               3.891      16.405  ...              0            -999.000   \n",
       "5               1.362      61.619  ...              3              90.547   \n",
       "\n",
       "   PRI_jet_leading_eta  PRI_jet_leading_phi  PRI_jet_subleading_pt  \\\n",
       "0                2.150                0.444                 46.062   \n",
       "1                0.725                1.158               -999.000   \n",
       "2                2.053               -2.028               -999.000   \n",
       "3             -999.000             -999.000               -999.000   \n",
       "4             -999.000             -999.000               -999.000   \n",
       "5               -2.412               -0.653                 56.165   \n",
       "\n",
       "   PRI_jet_subleading_eta  PRI_jet_subleading_phi  PRI_jet_all_pt    Weight  \\\n",
       "0                   1.240                  -2.475         113.497  0.002653   \n",
       "1                -999.000                -999.000          46.226  2.233584   \n",
       "2                -999.000                -999.000          44.251  2.347389   \n",
       "3                -999.000                -999.000          -0.000  5.446378   \n",
       "4                -999.000                -999.000           0.000  6.245333   \n",
       "5                   0.224                   3.106         193.660  0.083414   \n",
       "\n",
       "   Label  \n",
       "0      s  \n",
       "1      b  \n",
       "2      b  \n",
       "3      b  \n",
       "4      b  \n",
       "5      b  \n",
       "\n",
       "[6 rows x 33 columns]"
      ]
     },
     "execution_count": 258,
     "metadata": {},
     "output_type": "execute_result"
    }
   ],
   "source": [
    "df_train = pd.read_csv('training.csv')\n",
    "\n",
    "df_train.head(6)"
   ]
  },
  {
   "cell_type": "markdown",
   "metadata": {},
   "source": [
    "Meaningless data is labeled as -999. This data will be explained in more detail later on.   \n",
    "Right now we should note that there are multiple ways of dealing with this data.\n",
    "First we will try removing these events."
   ]
  },
  {
   "cell_type": "code",
   "execution_count": 259,
   "metadata": {},
   "outputs": [
    {
     "name": "stdout",
     "output_type": "stream",
     "text": [
      "Number of events remaining: 68114\n"
     ]
    }
   ],
   "source": [
    "# Remove placeholder for linear models\n",
    "df_train_no_na = df_train[df_train != -999].dropna()\n",
    "\n",
    "print('Number of events remaining: {}'.format(df_train_no_na.shape[0]))\n"
   ]
  },
  {
   "cell_type": "markdown",
   "metadata": {},
   "source": [
    "Removing close to 1/3 of the data is probably unacceptable.\n",
    "\n",
    "We will try analyzing with the original -999 values and also replacing those values with the feature mean."
   ]
  },
  {
   "cell_type": "code",
   "execution_count": 260,
   "metadata": {},
   "outputs": [],
   "source": [
    "# Replace placeholder with mean\n",
    "df_train_rep_na = df_train[df_train != -999].fillna(df_train[df_train != -999].mean())"
   ]
  },
  {
   "cell_type": "markdown",
   "metadata": {},
   "source": [
    "Before moving on to doing some actual machine learning we should load the test data. This data is not labeled as signal or background and predictions on this data can only be scored by submitting a solution file with predictions to Kaggle's website.   \n",
    "\n",
    "This competition ranks competitors by determining an AMS metric score. This score uses the s/b rates predetermined by the physicists. Because this metric is not widespread in machine learning it was not calculated in the project. However a submission score for my best model will be shown at the end of the project.\n",
    "![title](AMS_Metric.png)"
   ]
  },
  {
   "cell_type": "markdown",
   "metadata": {},
   "source": [
    "### Load Test Data\n",
    "\n",
    "550000 events"
   ]
  },
  {
   "cell_type": "code",
   "execution_count": 261,
   "metadata": {},
   "outputs": [
    {
     "data": {
      "text/html": [
       "<div>\n",
       "<style>\n",
       "    .dataframe thead tr:only-child th {\n",
       "        text-align: right;\n",
       "    }\n",
       "\n",
       "    .dataframe thead th {\n",
       "        text-align: left;\n",
       "    }\n",
       "\n",
       "    .dataframe tbody tr th {\n",
       "        vertical-align: top;\n",
       "    }\n",
       "</style>\n",
       "<table border=\"1\" class=\"dataframe\">\n",
       "  <thead>\n",
       "    <tr style=\"text-align: right;\">\n",
       "      <th></th>\n",
       "      <th>EventId</th>\n",
       "      <th>DER_mass_MMC</th>\n",
       "      <th>DER_mass_transverse_met_lep</th>\n",
       "      <th>DER_mass_vis</th>\n",
       "      <th>DER_pt_h</th>\n",
       "      <th>DER_deltaeta_jet_jet</th>\n",
       "      <th>DER_mass_jet_jet</th>\n",
       "      <th>DER_prodeta_jet_jet</th>\n",
       "      <th>DER_deltar_tau_lep</th>\n",
       "      <th>DER_pt_tot</th>\n",
       "      <th>...</th>\n",
       "      <th>PRI_met_phi</th>\n",
       "      <th>PRI_met_sumet</th>\n",
       "      <th>PRI_jet_num</th>\n",
       "      <th>PRI_jet_leading_pt</th>\n",
       "      <th>PRI_jet_leading_eta</th>\n",
       "      <th>PRI_jet_leading_phi</th>\n",
       "      <th>PRI_jet_subleading_pt</th>\n",
       "      <th>PRI_jet_subleading_eta</th>\n",
       "      <th>PRI_jet_subleading_phi</th>\n",
       "      <th>PRI_jet_all_pt</th>\n",
       "    </tr>\n",
       "  </thead>\n",
       "  <tbody>\n",
       "    <tr>\n",
       "      <th>0</th>\n",
       "      <td>350000</td>\n",
       "      <td>-999.000</td>\n",
       "      <td>79.589</td>\n",
       "      <td>23.916</td>\n",
       "      <td>3.036</td>\n",
       "      <td>-999.000</td>\n",
       "      <td>-999.000</td>\n",
       "      <td>-999.000</td>\n",
       "      <td>0.903</td>\n",
       "      <td>3.036</td>\n",
       "      <td>...</td>\n",
       "      <td>2.022</td>\n",
       "      <td>98.556</td>\n",
       "      <td>0</td>\n",
       "      <td>-999.000</td>\n",
       "      <td>-999.000</td>\n",
       "      <td>-999.000</td>\n",
       "      <td>-999.000</td>\n",
       "      <td>-999.000</td>\n",
       "      <td>-999.000</td>\n",
       "      <td>-0.000</td>\n",
       "    </tr>\n",
       "    <tr>\n",
       "      <th>1</th>\n",
       "      <td>350001</td>\n",
       "      <td>106.398</td>\n",
       "      <td>67.490</td>\n",
       "      <td>87.949</td>\n",
       "      <td>49.994</td>\n",
       "      <td>-999.000</td>\n",
       "      <td>-999.000</td>\n",
       "      <td>-999.000</td>\n",
       "      <td>2.048</td>\n",
       "      <td>2.679</td>\n",
       "      <td>...</td>\n",
       "      <td>-1.138</td>\n",
       "      <td>176.251</td>\n",
       "      <td>1</td>\n",
       "      <td>47.575</td>\n",
       "      <td>-0.553</td>\n",
       "      <td>-0.849</td>\n",
       "      <td>-999.000</td>\n",
       "      <td>-999.000</td>\n",
       "      <td>-999.000</td>\n",
       "      <td>47.575</td>\n",
       "    </tr>\n",
       "    <tr>\n",
       "      <th>2</th>\n",
       "      <td>350002</td>\n",
       "      <td>117.794</td>\n",
       "      <td>56.226</td>\n",
       "      <td>96.358</td>\n",
       "      <td>4.137</td>\n",
       "      <td>-999.000</td>\n",
       "      <td>-999.000</td>\n",
       "      <td>-999.000</td>\n",
       "      <td>2.755</td>\n",
       "      <td>4.137</td>\n",
       "      <td>...</td>\n",
       "      <td>-1.868</td>\n",
       "      <td>111.505</td>\n",
       "      <td>0</td>\n",
       "      <td>-999.000</td>\n",
       "      <td>-999.000</td>\n",
       "      <td>-999.000</td>\n",
       "      <td>-999.000</td>\n",
       "      <td>-999.000</td>\n",
       "      <td>-999.000</td>\n",
       "      <td>0.000</td>\n",
       "    </tr>\n",
       "    <tr>\n",
       "      <th>3</th>\n",
       "      <td>350003</td>\n",
       "      <td>135.861</td>\n",
       "      <td>30.604</td>\n",
       "      <td>97.288</td>\n",
       "      <td>9.104</td>\n",
       "      <td>-999.000</td>\n",
       "      <td>-999.000</td>\n",
       "      <td>-999.000</td>\n",
       "      <td>2.811</td>\n",
       "      <td>9.104</td>\n",
       "      <td>...</td>\n",
       "      <td>1.172</td>\n",
       "      <td>164.707</td>\n",
       "      <td>0</td>\n",
       "      <td>-999.000</td>\n",
       "      <td>-999.000</td>\n",
       "      <td>-999.000</td>\n",
       "      <td>-999.000</td>\n",
       "      <td>-999.000</td>\n",
       "      <td>-999.000</td>\n",
       "      <td>0.000</td>\n",
       "    </tr>\n",
       "    <tr>\n",
       "      <th>4</th>\n",
       "      <td>350004</td>\n",
       "      <td>74.159</td>\n",
       "      <td>82.772</td>\n",
       "      <td>58.731</td>\n",
       "      <td>89.646</td>\n",
       "      <td>1.347</td>\n",
       "      <td>536.663</td>\n",
       "      <td>-0.339</td>\n",
       "      <td>1.028</td>\n",
       "      <td>77.213</td>\n",
       "      <td>...</td>\n",
       "      <td>-0.231</td>\n",
       "      <td>869.614</td>\n",
       "      <td>3</td>\n",
       "      <td>254.085</td>\n",
       "      <td>-1.013</td>\n",
       "      <td>-0.334</td>\n",
       "      <td>185.857</td>\n",
       "      <td>0.335</td>\n",
       "      <td>2.587</td>\n",
       "      <td>599.213</td>\n",
       "    </tr>\n",
       "    <tr>\n",
       "      <th>5</th>\n",
       "      <td>350005</td>\n",
       "      <td>95.709</td>\n",
       "      <td>94.168</td>\n",
       "      <td>66.280</td>\n",
       "      <td>14.719</td>\n",
       "      <td>-999.000</td>\n",
       "      <td>-999.000</td>\n",
       "      <td>-999.000</td>\n",
       "      <td>3.065</td>\n",
       "      <td>14.719</td>\n",
       "      <td>...</td>\n",
       "      <td>2.566</td>\n",
       "      <td>86.129</td>\n",
       "      <td>0</td>\n",
       "      <td>-999.000</td>\n",
       "      <td>-999.000</td>\n",
       "      <td>-999.000</td>\n",
       "      <td>-999.000</td>\n",
       "      <td>-999.000</td>\n",
       "      <td>-999.000</td>\n",
       "      <td>0.000</td>\n",
       "    </tr>\n",
       "  </tbody>\n",
       "</table>\n",
       "<p>6 rows × 31 columns</p>\n",
       "</div>"
      ],
      "text/plain": [
       "   EventId  DER_mass_MMC  DER_mass_transverse_met_lep  DER_mass_vis  DER_pt_h  \\\n",
       "0   350000      -999.000                       79.589        23.916     3.036   \n",
       "1   350001       106.398                       67.490        87.949    49.994   \n",
       "2   350002       117.794                       56.226        96.358     4.137   \n",
       "3   350003       135.861                       30.604        97.288     9.104   \n",
       "4   350004        74.159                       82.772        58.731    89.646   \n",
       "5   350005        95.709                       94.168        66.280    14.719   \n",
       "\n",
       "   DER_deltaeta_jet_jet  DER_mass_jet_jet  DER_prodeta_jet_jet  \\\n",
       "0              -999.000          -999.000             -999.000   \n",
       "1              -999.000          -999.000             -999.000   \n",
       "2              -999.000          -999.000             -999.000   \n",
       "3              -999.000          -999.000             -999.000   \n",
       "4                 1.347           536.663               -0.339   \n",
       "5              -999.000          -999.000             -999.000   \n",
       "\n",
       "   DER_deltar_tau_lep  DER_pt_tot       ...        PRI_met_phi  PRI_met_sumet  \\\n",
       "0               0.903       3.036       ...              2.022         98.556   \n",
       "1               2.048       2.679       ...             -1.138        176.251   \n",
       "2               2.755       4.137       ...             -1.868        111.505   \n",
       "3               2.811       9.104       ...              1.172        164.707   \n",
       "4               1.028      77.213       ...             -0.231        869.614   \n",
       "5               3.065      14.719       ...              2.566         86.129   \n",
       "\n",
       "   PRI_jet_num  PRI_jet_leading_pt  PRI_jet_leading_eta  PRI_jet_leading_phi  \\\n",
       "0            0            -999.000             -999.000             -999.000   \n",
       "1            1              47.575               -0.553               -0.849   \n",
       "2            0            -999.000             -999.000             -999.000   \n",
       "3            0            -999.000             -999.000             -999.000   \n",
       "4            3             254.085               -1.013               -0.334   \n",
       "5            0            -999.000             -999.000             -999.000   \n",
       "\n",
       "   PRI_jet_subleading_pt  PRI_jet_subleading_eta  PRI_jet_subleading_phi  \\\n",
       "0               -999.000                -999.000                -999.000   \n",
       "1               -999.000                -999.000                -999.000   \n",
       "2               -999.000                -999.000                -999.000   \n",
       "3               -999.000                -999.000                -999.000   \n",
       "4                185.857                   0.335                   2.587   \n",
       "5               -999.000                -999.000                -999.000   \n",
       "\n",
       "   PRI_jet_all_pt  \n",
       "0          -0.000  \n",
       "1          47.575  \n",
       "2           0.000  \n",
       "3           0.000  \n",
       "4         599.213  \n",
       "5           0.000  \n",
       "\n",
       "[6 rows x 31 columns]"
      ]
     },
     "execution_count": 261,
     "metadata": {},
     "output_type": "execute_result"
    }
   ],
   "source": [
    "df_test = pd.read_csv('test.csv')\n",
    "\n",
    "# Show\n",
    "df_test.head(6)"
   ]
  },
  {
   "cell_type": "markdown",
   "metadata": {},
   "source": [
    "### Convert training data into numpy arrays"
   ]
  },
  {
   "cell_type": "code",
   "execution_count": 262,
   "metadata": {},
   "outputs": [],
   "source": [
    "# Set s = 1, b = 0\n",
    "yraw = np.array(df_train['Label'])\n",
    "y = np.array(yraw == 's').astype(int)\n",
    "\n",
    "# Data directly from dataframe with -999 values\n",
    "X = np.array(df_train.iloc[:,1:-2])\n",
    "\n",
    "# Data replacing -999 values with mean\n",
    "X_rep_na = np.array(df_train_rep_na.iloc[:,1:-2])"
   ]
  },
  {
   "cell_type": "markdown",
   "metadata": {},
   "source": [
    "Let's run some simple logistic regression and check our model's accuracy.  \n",
    "No cross-validation yet! Just trying to see what we are working with here."
   ]
  },
  {
   "cell_type": "code",
   "execution_count": 263,
   "metadata": {},
   "outputs": [
    {
     "name": "stdout",
     "output_type": "stream",
     "text": [
      "Accuracy on training data with -999 = 0.75011\n",
      "Accuracy on training data with -999 replaced with mean = 0.7505\n"
     ]
    }
   ],
   "source": [
    "# With -999 values in the data\n",
    "logreg = linear_model.LogisticRegression()\n",
    "logreg.fit(X, y)\n",
    "yhat1 = logreg.predict(X)\n",
    "\n",
    "acc1 = np.mean(yhat1 == y)\n",
    "\n",
    "# Replaced -999\n",
    "logreg = linear_model.LogisticRegression()\n",
    "logreg.fit(X_rep_na, y)\n",
    "yhat2 = logreg.predict(X_rep_na)\n",
    "\n",
    "acc2 = np.mean(yhat2 == y)\n",
    "\n",
    "\n",
    "print(\"Accuracy on training data with -999 = {:.5}\".format(acc1))\n",
    "print(\"Accuracy on training data with -999 replaced with mean = {:.5}\".format(acc2))\n"
   ]
  },
  {
   "cell_type": "markdown",
   "metadata": {},
   "source": [
    "Neither method gives a particularly exciting result. Analyzing the features should give us insight on how to proceed."
   ]
  },
  {
   "cell_type": "markdown",
   "metadata": {},
   "source": [
    "##### Analyzing the Data\n",
    "\n",
    "Any meaningless features have a value of -999. Looking at the data it can be seen that there is some order to when certain features have meaningless data.\n",
    "\n",
    "PRI_jet_num determines which PRI_jet features are meaningless. This can be seen in a plot of PRI_jet_num vs # of meaningless features."
   ]
  },
  {
   "cell_type": "code",
   "execution_count": 264,
   "metadata": {},
   "outputs": [
    {
     "data": {
      "text/plain": [
       "[-1, 4, -1, 13]"
      ]
     },
     "execution_count": 264,
     "metadata": {},
     "output_type": "execute_result"
    },
    {
     "data": {
      "image/png": "[encoded data removed]",
      "text/plain": [
       "<matplotlib.figure.Figure at 0x1e087e67cf8>"
      ]
     },
     "metadata": {},
     "output_type": "display_data"
    }
   ],
   "source": [
    "# Plot number of meaningless features vs PRI_jet_num\n",
    "\n",
    "plt.plot(df_train['PRI_jet_num'], df_train[ df_train != -999].isnull().sum(axis=1),'rx')\n",
    "plt.xlabel('PRI_jet_num', fontsize=16)\n",
    "plt.ylabel('Amount', fontsize=16)\n",
    "plt.title('Number of Meaningless Features', fontsize=14)\n",
    "plt.axis([-1,df_train['PRI_jet_num'].max()+1,-1, 13])"
   ]
  },
  {
   "cell_type": "markdown",
   "metadata": {},
   "source": [
    "The reason there is N or N + 1 meaningless features for each PRI_jet_num is that DER_mass_MMC also sometimes meaningless."
   ]
  },
  {
   "cell_type": "markdown",
   "metadata": {},
   "source": [
    "This plot shows that events can be probably be binned by PRI_jet_num and trainned on separate models"
   ]
  },
  {
   "cell_type": "code",
   "execution_count": 266,
   "metadata": {},
   "outputs": [],
   "source": [
    "# Bin X data by PRI_jet_num and drop nulls\n",
    "X0 = np.array(df_train[df_train['PRI_jet_num']==0][df_train[df_train['PRI_jet_num']==0] != -999].dropna(axis=1).iloc[:,1:-2])\n",
    "X1 = np.array(df_train[df_train['PRI_jet_num']==1][df_train[df_train['PRI_jet_num']==1] != -999].dropna(axis=1).iloc[:,1:-2])\n",
    "X2 = np.array(df_train[df_train['PRI_jet_num']==2][df_train[df_train['PRI_jet_num']==2] != -999].dropna(axis=1).iloc[:,1:-2])\n",
    "X3 = np.array(df_train[df_train['PRI_jet_num']==3][df_train[df_train['PRI_jet_num']==3] != -999].dropna(axis=1).iloc[:,1:-2])\n",
    "\n",
    "# Bin Y data by PRI_jet_num and drop nulls\n",
    "yraw = np.array(df_train[df_train['PRI_jet_num']==0]['Label'])\n",
    "y0 = np.array(yraw == 's').astype(int)\n",
    "yraw = np.array(df_train[df_train['PRI_jet_num']==1]['Label'])\n",
    "y1 = np.array(yraw == 's').astype(int)\n",
    "yraw = np.array(df_train[df_train['PRI_jet_num']==2]['Label'])\n",
    "y2 = np.array(yraw == 's').astype(int)\n",
    "yraw = np.array(df_train[df_train['PRI_jet_num']==3]['Label'])\n",
    "y3 = np.array(yraw == 's').astype(int)\n"
   ]
  },
  {
   "cell_type": "code",
   "execution_count": 268,
   "metadata": {},
   "outputs": [],
   "source": [
    "# Train first set of data\n",
    "logreg0 = linear_model.LogisticRegression()\n",
    "logreg0.fit(X0, y0)\n",
    "probas0 = logreg0.predict_proba(X0)\n",
    "yhat0 = logreg0.predict(X0)\n",
    "\n",
    "# Train second set of data\n",
    "logreg1 = linear_model.LogisticRegression()\n",
    "logreg1.fit(X1, y1)\n",
    "probas1 = logreg1.predict_proba(X1)\n",
    "yhat1 = logreg1.predict(X1)\n",
    "\n",
    "# Train third set of data\n",
    "logreg2 = linear_model.LogisticRegression()\n",
    "logreg2.fit(X2, y2)\n",
    "probas2 = logreg2.predict_proba(X2)\n",
    "yhat2 = logreg2.predict(X2)\n",
    "\n",
    "# Train fourth set of data\n",
    "logreg3 = linear_model.LogisticRegression()\n",
    "logreg3.fit(X3, y3)\n",
    "probas3 = logreg3.predict_proba(X3)\n",
    "yhat3 = logreg3.predict(X3)\n",
    "\n",
    "# Stack all predictions and original labels into comparable arrays\n",
    "yhat_binned = np.hstack([yhat0, yhat1, yhat2, yhat3])\n",
    "probas_binned =  np.hstack([probas0[:,1], probas1[:,1], probas2[:,1], probas3[:,1], ])\n",
    "y_binned = np.hstack([y0, y1, y2, y3])\n"
   ]
  },
  {
   "cell_type": "code",
   "execution_count": 269,
   "metadata": {},
   "outputs": [
    {
     "name": "stdout",
     "output_type": "stream",
     "text": [
      "Accuracy on binned data = 0.76481\n"
     ]
    }
   ],
   "source": [
    "\n",
    "acc_binned = np.mean(yhat_binned == y_binned)\n",
    "print(\"Accuracy on binned data = {:.5}\".format(acc_binned))\n"
   ]
  },
  {
   "cell_type": "markdown",
   "metadata": {},
   "source": [
    "This might be a little better than before but probably not much.\n",
    "\n",
    "Let's look at cross-validation and a different metric than accuracy."
   ]
  },
  {
   "cell_type": "markdown",
   "metadata": {},
   "source": [
    "## AUC ROC (Receiver Operating Characteristic)\n",
    "\n",
    "Accuracy measures model performance for a particular threshold, usually 0.5. This threshold determines the binary classification. Area under the curve of the receiver operating characteristics is a more comprehensive measure as it shows how the true positive rate and false positive rate trade off. Because the threshold for this model will be investigated further later on in this project the broader metric of AUC will be used to grade performance\n",
    "\n",
    "ROC plots true positive rate (TPR) vs false positive rate (FPR). An ideal curve is essentially a square with an area of 1. \n",
    "A good way to visualize this metric is with a small amount of data. As the amount of data/events increase the curve smoothens outs. \n",
    "\n",
    "We will look at Kfold CV of 500 random samples of the X0 data above. The small number of samples chosen shows the \"choppiness\" of the curve for different TPR and FPR rates.\n",
    "\n",
    "Stratified KFold was chosen to keep the s/b ratio similar across all folds.\n",
    "\n",
    "Note: this code is a combination of code from Kfold CV from the labs of this course and from the scikit-learn website which explains AUC ROC. http://scikit-learn.org/stable/auto_examples/model_selection/plot_roc_crossval.html#sphx-glr-auto-examples-model-selection-plot-roc-crossval-py"
   ]
  },
  {
   "cell_type": "code",
   "execution_count": 273,
   "metadata": {},
   "outputs": [
    {
     "name": "stdout",
     "output_type": "stream",
     "text": [
      "Precision = 0.4658, SE=0.1565\n",
      "Recall =    0.3929, SE=0.1584\n",
      "f1 =        0.4095, SE=0.1472\n",
      "Accuracy =  0.7200, SE=0.0542\n"
     ]
    },
    {
     "data": {
      "image/png": "[encoded data removed]",
      "text/plain": [
       "<matplotlib.figure.Figure at 0x1e086ba95c0>"
      ]
     },
     "metadata": {},
     "output_type": "display_data"
    }
   ],
   "source": [
    "# 500 random samples\n",
    "nsamp = 500\n",
    "x = [np.random.randint(0,X0.shape[0]) for p in range(0,100)]\n",
    "\n",
    "Xs  = X0[x,:]\n",
    "ys  = y0[x]\n",
    "\n",
    "# Kfold Cross-validation\n",
    "\n",
    "tprs = []\n",
    "aucs = []\n",
    "mean_fpr = np.linspace(0, 1, 100)\n",
    "\n",
    "i = 0\n",
    "\n",
    "nfold = 4\n",
    "kf = StratifiedKFold(n_splits=nfold)\n",
    "prec = []\n",
    "rec = []\n",
    "f1 = []\n",
    "acc = []\n",
    "for train, test in kf.split(Xs, ys):            \n",
    "    # Get training and test data\n",
    "    Xtr = Xs[train,:]\n",
    "    ytr = ys[train]\n",
    "    Xts = Xs[test,:]\n",
    "    yts = ys[test]\n",
    "    \n",
    "    # Fit a model\n",
    "    logreg.fit(Xtr, ytr)\n",
    "    yhat = logreg.predict(Xts)\n",
    "    \n",
    "    probas_ = logreg.predict_proba(Xts)\n",
    "    \n",
    "    # Compute ROC curve and area the curve\n",
    "    fpr, tpr, thresholds = roc_curve(yts, probas_[:, 1])\n",
    "    tprs.append(interp(mean_fpr, fpr, tpr))\n",
    "    tprs[-1][0] = 0.0\n",
    "    roc_auc = auc(fpr, tpr)\n",
    "    aucs.append(roc_auc)\n",
    "    plt.plot(fpr, tpr, lw=1, alpha=0.3,\n",
    "             label='ROC fold %d (AUC = %0.2f)' % (i, roc_auc))\n",
    "\n",
    "    i += 1\n",
    "    # Measure performance\n",
    "    preci,reci,f1i,_= precision_recall_fscore_support(yts,yhat,average='binary') \n",
    "    prec.append(preci)\n",
    "    rec.append(reci)\n",
    "    f1.append(f1i)\n",
    "    acci = np.mean(yhat == yts)\n",
    "    acc.append(acci)\n",
    "\n",
    "# Take average values of the metrics\n",
    "precm = np.mean(prec)\n",
    "recm = np.mean(rec)\n",
    "f1m = np.mean(f1)\n",
    "accm= np.mean(acc)\n",
    "\n",
    "# Compute the standard errors\n",
    "prec_se = np.std(prec)/np.sqrt(nfold-1)\n",
    "rec_se = np.std(rec)/np.sqrt(nfold-1)\n",
    "f1_se = np.std(f1)/np.sqrt(nfold-1)\n",
    "acc_se = np.std(acc)/np.sqrt(nfold-1)\n",
    "\n",
    "print('Precision = {0:.4f}, SE={1:.4f}'.format(precm,prec_se))\n",
    "print('Recall =    {0:.4f}, SE={1:.4f}'.format(recm, rec_se))\n",
    "print('f1 =        {0:.4f}, SE={1:.4f}'.format(f1m, f1_se))\n",
    "print('Accuracy =  {0:.4f}, SE={1:.4f}'.format(accm, acc_se))\n",
    "plt.plot([0, 1], [0, 1], linestyle='--', lw=2, color='r',\n",
    "         label='Luck', alpha=.8)\n",
    "\n",
    "mean_tpr = np.mean(tprs, axis=0)\n",
    "mean_tpr[-1] = 1.0\n",
    "mean_auc = auc(mean_fpr, mean_tpr)\n",
    "std_auc = np.std(aucs)\n",
    "plt.plot(mean_fpr, mean_tpr, color='b',\n",
    "         label=r'Mean ROC (AUC = %0.2f $\\pm$ %0.2f)' % (mean_auc, std_auc),\n",
    "         lw=2, alpha=.8)\n",
    "\n",
    "std_tpr = np.std(tprs, axis=0)\n",
    "tprs_upper = np.minimum(mean_tpr + std_tpr, 1)\n",
    "tprs_lower = np.maximum(mean_tpr - std_tpr, 0)\n",
    "plt.fill_between(mean_fpr, tprs_lower, tprs_upper, color='grey', alpha=.2,\n",
    "                 label=r'$\\pm$ 1 std. dev.')\n",
    "\n",
    "plt.xlim([-0.05, 1.05])\n",
    "plt.ylim([-0.05, 1.05])\n",
    "plt.xlabel('False Positive Rate')\n",
    "plt.ylabel('True Positive Rate')\n",
    "plt.title('ROC (Receiver Operating Characteristic)')\n",
    "plt.legend(loc=\"lower right\")\n",
    "plt.show()"
   ]
  },
  {
   "cell_type": "markdown",
   "metadata": {},
   "source": [
    "Let's go back and plot the ROC for the binned approach with all features and events. This curve will be much smoother than the one above."
   ]
  },
  {
   "cell_type": "code",
   "execution_count": 272,
   "metadata": {},
   "outputs": [
    {
     "data": {
      "image/png": "[encoded data removed]",
      "text/plain": [
       "<matplotlib.figure.Figure at 0x1e084789d68>"
      ]
     },
     "metadata": {},
     "output_type": "display_data"
    }
   ],
   "source": [
    "fpr, tpr, thresholds = roc_curve(y_binned, probas_binned)\n",
    "roc_auc = auc(fpr, tpr)\n",
    "plt.plot(fpr, tpr, color='b',\n",
    "         label=r'ROC binned approach (AUC = {:.3})'.format(roc_auc),\n",
    "         lw=2, alpha=.8)\n",
    "plt.plot([0, 1], [0, 1], linestyle='--', lw=2, color='r',\n",
    "         label='Luck', alpha=.8)\n",
    "plt.xlabel('False Positive Rate')\n",
    "plt.ylabel('True Positive Rate')\n",
    "plt.title('ROC (Receiver Operating Characteristic)')\n",
    "plt.legend(loc=\"lower right\")\n",
    "plt.show()"
   ]
  },
  {
   "cell_type": "markdown",
   "metadata": {},
   "source": [
    "We could continue with imporving performance of logistic regression and cross-validation for the binned feature approach however we will move onto the main focus of this project which is gradient boosted trees."
   ]
  },
  {
   "cell_type": "markdown",
   "metadata": {},
   "source": [
    "## Gradient Boosted Decision Trees (GBDT)\n",
    "\n",
    "Decision tree classification is a machine learning technique which makes decisions on input data. Decision trees represent choices between alternative classifications of features as branches in a tree and ultimate event classification with leaf nodes.   \n",
    "Gradient boosted decision trees are essentially ensemble models of decisions trees. Decision tree models in LightGBM, a GBDT, are trained in sequence and learned by fitting the negative gradient. \n",
    "\n",
    "GBDT are good at fitting models with little processing of feature data."
   ]
  },
  {
   "cell_type": "markdown",
   "metadata": {},
   "source": [
    "## LightGBM\n",
    "\n",
    "\n",
    "We will replace -999 values with nulls. This is something LightGBM will be able to work with."
   ]
  },
  {
   "cell_type": "code",
   "execution_count": 274,
   "metadata": {
    "collapsed": true
   },
   "outputs": [],
   "source": [
    "# Data with na replacing -999 values\n",
    "X_na = np.array(df_train.iloc[:,1:-2])\n",
    "X_na[X == -999] = float('nan')"
   ]
  },
  {
   "cell_type": "markdown",
   "metadata": {},
   "source": [
    "We will perform cross-calidation and set our parameters for LightGBM. \n",
    "Boosting is a method of sequentially fitting a decision tree model then fitting subsequent decisions trees to the residuals of that model.\n",
    "\n",
    "The process can be simplified to the steps below. A function F is found on x data and the process is repeated for the residuals from each step.  \n",
    "\n",
    "1. F1(x) = y\n",
    "2. h1(x) = y - F1(x)\n",
    "3. F2(x) = F1(x) + h1(x)  \n",
    ".  \n",
    ".  \n",
    ".    \n",
    "Fn(x) = Fn-1(x) + hn-1(x)\n",
    "\n",
    "h is the residuals\n",
    "\n",
    "Decisions trees naturally have high variance and low bias. Bagging (boostrap aggregating) is a way to decrease variance by generating synthetic data from the training sample. Essentially decision tree models are averaged out every x amount of rounds of boosting. For this model the frequency is chosen to be every 10 rounds.\n",
    "\n",
    "We set AUC as our metric and .07 as the learning rate or shrinkage. We want to choose a reasonable number of rounds of boosting. We can pick this value based on model performance during cross-validation."
   ]
  },
  {
   "cell_type": "code",
   "execution_count": 275,
   "metadata": {},
   "outputs": [
    {
     "name": "stdout",
     "output_type": "stream",
     "text": [
      "[20]\tcv_agg's auc: 0.892095 + 0.00118342\n",
      "[40]\tcv_agg's auc: 0.899638 + 0.00126419\n",
      "[60]\tcv_agg's auc: 0.90416 + 0.00122916\n",
      "[80]\tcv_agg's auc: 0.906679 + 0.00108983\n",
      "[100]\tcv_agg's auc: 0.9082 + 0.00101276\n",
      "[120]\tcv_agg's auc: 0.909136 + 0.000993784\n",
      "[140]\tcv_agg's auc: 0.909632 + 0.000969945\n",
      "[160]\tcv_agg's auc: 0.90998 + 0.0009655\n",
      "[180]\tcv_agg's auc: 0.910228 + 0.000967889\n",
      "[200]\tcv_agg's auc: 0.910475 + 0.000966265\n",
      "[220]\tcv_agg's auc: 0.910591 + 0.000957384\n",
      "[240]\tcv_agg's auc: 0.910727 + 0.000957504\n",
      "[260]\tcv_agg's auc: 0.910841 + 0.000972723\n",
      "[280]\tcv_agg's auc: 0.910934 + 0.00094246\n",
      "[300]\tcv_agg's auc: 0.911028 + 0.000886139\n",
      "[320]\tcv_agg's auc: 0.911112 + 0.000894208\n",
      "[340]\tcv_agg's auc: 0.91119 + 0.000902415\n",
      "[360]\tcv_agg's auc: 0.911255 + 0.000914533\n",
      "[380]\tcv_agg's auc: 0.911308 + 0.000934429\n",
      "[400]\tcv_agg's auc: 0.911283 + 0.000934379\n",
      "[420]\tcv_agg's auc: 0.911315 + 0.000897054\n",
      "[440]\tcv_agg's auc: 0.911341 + 0.000872286\n",
      "[460]\tcv_agg's auc: 0.91135 + 0.000902776\n",
      "[480]\tcv_agg's auc: 0.911341 + 0.000929872\n",
      "[500]\tcv_agg's auc: 0.911358 + 0.000925524\n",
      "[520]\tcv_agg's auc: 0.911389 + 0.000931874\n",
      "[540]\tcv_agg's auc: 0.911434 + 0.000932468\n",
      "[560]\tcv_agg's auc: 0.911462 + 0.000934233\n",
      "[580]\tcv_agg's auc: 0.911432 + 0.000928974\n",
      "[600]\tcv_agg's auc: 0.911436 + 0.000923926\n",
      "[620]\tcv_agg's auc: 0.911459 + 0.000926262\n",
      "[640]\tcv_agg's auc: 0.911463 + 0.000935769\n",
      "[660]\tcv_agg's auc: 0.911446 + 0.000920949\n",
      "[680]\tcv_agg's auc: 0.911429 + 0.000949649\n",
      "[700]\tcv_agg's auc: 0.911413 + 0.000966448\n"
     ]
    }
   ],
   "source": [
    "# Set LightGBM parameters\n",
    "params = {}\n",
    "params['application'] = 'binary' \n",
    "params['boosting'] = 'gbdt'\n",
    "\n",
    "# Set number of features boosted each round. Helps with speed\n",
    "params['feature_fraction'] = 0.8\n",
    "params['bagging_fraction'] = 0.8\n",
    "params['bagging_freq'] = 10\n",
    "\n",
    "params['metric'] = ['auc']\n",
    "params['learning_rate'] = .07\n",
    "\n",
    "num_round = 700\n",
    "nfolds = 7\n",
    "\n",
    "dlgb = lgb.Dataset(X_na, label=y)\n",
    "\n",
    "# Run Stratified CV.\n",
    "lgb_cv = lgb.cv(params, dlgb, num_round, nfold = nfolds, verbose_eval=20, stratified=True)\n",
    "\n"
   ]
  },
  {
   "cell_type": "markdown",
   "metadata": {},
   "source": [
    "Based on the CV results it looks like the model performance plateaus around 600 rounds. This is what we will use for our model."
   ]
  },
  {
   "cell_type": "code",
   "execution_count": 276,
   "metadata": {
    "collapsed": true
   },
   "outputs": [],
   "source": [
    "# Train\n",
    "num_rounds_train = 600\n",
    "\n",
    "lgb_model=lgb.train(params,dlgb,num_rounds_train)\n",
    "\n",
    "ypred_lgbm = lgb_model.predict(X_na)\n",
    "\n"
   ]
  },
  {
   "cell_type": "markdown",
   "metadata": {},
   "source": [
    "## Comparing Logistic Regression vs LightGBM"
   ]
  },
  {
   "cell_type": "code",
   "execution_count": 277,
   "metadata": {},
   "outputs": [
    {
     "data": {
      "image/png": "[encoded data removed]",
      "text/plain": [
       "<matplotlib.figure.Figure at 0x1e083f7bf28>"
      ]
     },
     "metadata": {},
     "output_type": "display_data"
    }
   ],
   "source": [
    "# Calculate AUC and plot ROC for Light GBM\n",
    "fpr_lgbm, tpr_lgbm, thresholds = roc_curve(y, ypred_lgbm, pos_label=1)\n",
    "roc_auc_lgbm  = auc(fpr_lgbm,tpr_lgbm)\n",
    "plt.plot(fpr_lgbm, tpr_lgbm,'orange',label=r'ROC LightGBM (AUC = {:.3})'.format(roc_auc_lgbm),\n",
    "         lw=2, alpha=.8)\n",
    "\n",
    "\n",
    "# Calculate AUC and plot ROC for Logistic. (Same code as a few cells above)\n",
    "fpr, tpr, thresholds = roc_curve(y_binned, probas_binned)\n",
    "roc_auc = auc(fpr, tpr)\n",
    "plt.plot(fpr, tpr, color='b',\n",
    "         label=r'ROC binned approach (AUC = {:.3})'.format(roc_auc),\n",
    "         lw=2, alpha=.8)\n",
    "plt.plot([0, 1], [0, 1], linestyle='--', lw=2, color='r',\n",
    "         label='Luck', alpha=.8)\n",
    "plt.xlabel('False Positive Rate')\n",
    "plt.ylabel('True Positive Rate')\n",
    "plt.title('ROC (Receiver Operating Characteristic)')\n",
    "plt.legend(loc=\"lower right\")\n",
    "plt.show()"
   ]
  },
  {
   "cell_type": "markdown",
   "metadata": {},
   "source": [
    "It's clear from this plot how effective gradient boosted decisions trees can be.  "
   ]
  },
  {
   "cell_type": "markdown",
   "metadata": {},
   "source": [
    "### Creating a Kaggle Submission\n",
    "\n",
    "The LightGBM model will be used to predict results from Kaggle's test data. This submission can only be scored by uploading to kaggle.com. \n",
    "\n",
    "A variable r was determined as a cutoff to select events as signals with signal probabilities greater than r. According to the competition rules roughly 1/3 of the events in both the training and test set should be signals.  \n",
    "The AMS metric seems to punish false positives much more than false negatives. As a result of this, my model's cutoff value was optimized through submitting to be around .85. This selects roughly 14% of the events as signals."
   ]
  },
  {
   "cell_type": "code",
   "execution_count": 278,
   "metadata": {},
   "outputs": [
    {
     "name": "stdout",
     "output_type": "stream",
     "text": [
      "Percentage of signals in the training data: 34.3%\n"
     ]
    }
   ],
   "source": [
    "print('Percentage of signals in the training data: {:.3}%'.format(100*\n",
    "                                                                  df_train[df_train['Label'] == 's'].shape[0]/df_train.shape[0]))\n"
   ]
  },
  {
   "cell_type": "code",
   "execution_count": 280,
   "metadata": {},
   "outputs": [
    {
     "name": "stdout",
     "output_type": "stream",
     "text": [
      "Percentage of signals predicted in the test data after optimizing submission: 14.1%\n"
     ]
    }
   ],
   "source": [
    "r = .85\n",
    "print('Percentage of signals predicted in the test data after optimizing submission: {:.3}%'.format(100*\n",
    "    ypred_submission[ypred_submission >r].shape[0]/ypred_submission.shape[0]))"
   ]
  },
  {
   "cell_type": "markdown",
   "metadata": {},
   "source": [
    "#### Create sub.csv in Kaggle submission format"
   ]
  },
  {
   "cell_type": "code",
   "execution_count": 281,
   "metadata": {},
   "outputs": [
    {
     "name": "stderr",
     "output_type": "stream",
     "text": [
      "C:\\Users\\Corrado\\Anaconda2\\envs\\py36\\lib\\site-packages\\pandas\\core\\indexing.py:179: SettingWithCopyWarning: \n",
      "A value is trying to be set on a copy of a slice from a DataFrame\n",
      "\n",
      "See the caveats in the documentation: http://pandas.pydata.org/pandas-docs/stable/indexing.html#indexing-view-versus-copy\n",
      "  self._setitem_with_indexer(indexer, value)\n"
     ]
    }
   ],
   "source": [
    "r = 0.85\n",
    "\n",
    "# Load test data into numpy array\n",
    "test_id = df_test['EventId']\n",
    "\n",
    "Xtest = np.array(df_test.iloc[:,1:])\n",
    "Xtest[Xtest == -999] = float('nan')\n",
    "\n",
    "ypred_submission = lgb_model.predict(Xtest)\n",
    "\n",
    "sub = pd.DataFrame()\n",
    "sub['EventId'] = test_id\n",
    "sub['prob'] = ypred_submission\n",
    "sub['Class'] = 'b'\n",
    "sub['Class'].loc[ypred_submission >= r] ='s' \n",
    "\n",
    "sub = sub.sort_values('prob')\n",
    "sub['RankOrder'] = list(range(1,len(sub)+1))\n",
    "sub.drop('prob',axis=1).to_csv('sub.csv',index=False)\n"
   ]
  },
  {
   "cell_type": "markdown",
   "metadata": {},
   "source": [
    "## Final Score\n",
    "The final AMS score of my model is 3.45. The top score was around 3.8!\n",
    "\n",
    "![title](FinalScore.png)"
   ]
  }
 ],
 "metadata": {
  "kernelspec": {
   "display_name": "Python 3",
   "language": "python",
   "name": "python3"
  },
  "language_info": {
   "codemirror_mode": {
    "name": "ipython",
    "version": 3
   },
   "file_extension": ".py",
   "mimetype": "text/x-python",
   "name": "python",
   "nbconvert_exporter": "python",
   "pygments_lexer": "ipython3",
   "version": "3.6.3"
  }
 },
 "nbformat": 4,
 "nbformat_minor": 2
}
